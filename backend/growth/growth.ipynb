{
 "cells": [
  {
   "cell_type": "code",
   "execution_count": 4,
   "metadata": {},
   "outputs": [
    {
     "name": "stdout",
     "output_type": "stream",
     "text": [
      "Requirement already satisfied: firecrawl-py in /Users/vladimirdeziegler/text_crewai/SmartFunnel/.venv/lib/python3.11/site-packages (0.0.20)\n",
      "Requirement already satisfied: requests in /Users/vladimirdeziegler/text_crewai/SmartFunnel/.venv/lib/python3.11/site-packages (from firecrawl-py) (2.32.3)\n",
      "Requirement already satisfied: charset-normalizer<4,>=2 in /Users/vladimirdeziegler/text_crewai/SmartFunnel/.venv/lib/python3.11/site-packages (from requests->firecrawl-py) (3.4.0)\n",
      "Requirement already satisfied: idna<4,>=2.5 in /Users/vladimirdeziegler/text_crewai/SmartFunnel/.venv/lib/python3.11/site-packages (from requests->firecrawl-py) (3.10)\n",
      "Requirement already satisfied: urllib3<3,>=1.21.1 in /Users/vladimirdeziegler/text_crewai/SmartFunnel/.venv/lib/python3.11/site-packages (from requests->firecrawl-py) (2.2.3)\n",
      "Requirement already satisfied: certifi>=2017.4.17 in /Users/vladimirdeziegler/text_crewai/SmartFunnel/.venv/lib/python3.11/site-packages (from requests->firecrawl-py) (2024.8.30)\n",
      "\n",
      "\u001b[1m[\u001b[0m\u001b[34;49mnotice\u001b[0m\u001b[1;39;49m]\u001b[0m\u001b[39;49m A new release of pip is available: \u001b[0m\u001b[31;49m24.0\u001b[0m\u001b[39;49m -> \u001b[0m\u001b[32;49m25.0.1\u001b[0m\n",
      "\u001b[1m[\u001b[0m\u001b[34;49mnotice\u001b[0m\u001b[1;39;49m]\u001b[0m\u001b[39;49m To update, run: \u001b[0m\u001b[32;49mpip install --upgrade pip\u001b[0m\n"
     ]
    }
   ],
   "source": [
    "!pip install firecrawl-py\n"
   ]
  },
  {
   "cell_type": "code",
   "execution_count": 1,
   "metadata": {},
   "outputs": [
    {
     "ename": "ModuleNotFoundError",
     "evalue": "No module named 'firecrawl'",
     "output_type": "error",
     "traceback": [
      "\u001b[0;31m---------------------------------------------------------------------------\u001b[0m",
      "\u001b[0;31mModuleNotFoundError\u001b[0m                       Traceback (most recent call last)",
      "Cell \u001b[0;32mIn[1], line 1\u001b[0m\n\u001b[0;32m----> 1\u001b[0m \u001b[38;5;28;01mfrom\u001b[39;00m \u001b[38;5;21;01mfirecrawl\u001b[39;00m \u001b[38;5;28;01mimport\u001b[39;00m FirecrawlApp\n\u001b[1;32m      3\u001b[0m app \u001b[38;5;241m=\u001b[39m FirecrawlApp(\u001b[38;5;124m\"\u001b[39m\u001b[38;5;124mfc-970a8239bdf54a36a23f62bbaa447313\u001b[39m\u001b[38;5;124m\"\u001b[39m)\n\u001b[1;32m      5\u001b[0m crawl_options \u001b[38;5;241m=\u001b[39m {\n\u001b[1;32m      6\u001b[0m     \u001b[38;5;124m'\u001b[39m\u001b[38;5;124mlimit\u001b[39m\u001b[38;5;124m'\u001b[39m: \u001b[38;5;241m10\u001b[39m,  \u001b[38;5;66;03m# Adjust this value based on the expected number of pages\u001b[39;00m\n\u001b[1;32m      7\u001b[0m     \u001b[38;5;124m'\u001b[39m\u001b[38;5;124mscrapeOptions\u001b[39m\u001b[38;5;124m'\u001b[39m: {\n\u001b[1;32m      8\u001b[0m         \u001b[38;5;124m'\u001b[39m\u001b[38;5;124mformats\u001b[39m\u001b[38;5;124m'\u001b[39m: [\u001b[38;5;124m'\u001b[39m\u001b[38;5;124mmarkdown\u001b[39m\u001b[38;5;124m'\u001b[39m, \u001b[38;5;124m'\u001b[39m\u001b[38;5;124mhtml\u001b[39m\u001b[38;5;124m'\u001b[39m]\n\u001b[1;32m      9\u001b[0m     }\n\u001b[1;32m     10\u001b[0m }\n",
      "\u001b[0;31mModuleNotFoundError\u001b[0m: No module named 'firecrawl'"
     ]
    }
   ],
   "source": [
    "from firecrawl import FirecrawlApp\n",
    "\n",
    "app = FirecrawlApp(\"fc-970a8239bdf54a36a23f62bbaa447313\")\n",
    "\n",
    "crawl_options = {\n",
    "    'limit': 10,  # Adjust this value based on the expected number of pages\n",
    "    'scrapeOptions': {\n",
    "        'formats': ['markdown', 'html']\n",
    "    }\n",
    "}\n",
    "\n",
    "crawl_status = app.crawl_url(\n",
    "    'https://github.com/modelcontextprotocol/servers',\n",
    "    params=crawl_options,\n",
    "    poll_interval=30\n",
    ")\n",
    "\n",
    "print(crawl_status)"
   ]
  },
  {
   "cell_type": "code",
   "execution_count": 5,
   "metadata": {},
   "outputs": [
    {
     "ename": "AttributeError",
     "evalue": "'FirecrawlApp' object has no attribute 'map_url'",
     "output_type": "error",
     "traceback": [
      "\u001b[0;31m---------------------------------------------------------------------------\u001b[0m",
      "\u001b[0;31mAttributeError\u001b[0m                            Traceback (most recent call last)",
      "Cell \u001b[0;32mIn[5], line 6\u001b[0m\n\u001b[1;32m      3\u001b[0m app \u001b[38;5;241m=\u001b[39m FirecrawlApp(api_key\u001b[38;5;241m=\u001b[39m\u001b[38;5;124m\"\u001b[39m\u001b[38;5;124mfc-970a8239bdf54a36a23f62bbaa447313\u001b[39m\u001b[38;5;124m\"\u001b[39m)\n\u001b[1;32m      5\u001b[0m \u001b[38;5;66;03m# Map a website:\u001b[39;00m\n\u001b[0;32m----> 6\u001b[0m map_result \u001b[38;5;241m=\u001b[39m \u001b[43mapp\u001b[49m\u001b[38;5;241;43m.\u001b[39;49m\u001b[43mmap_url\u001b[49m(\u001b[38;5;124m'\u001b[39m\u001b[38;5;124mhttps://github.com/modelcontextprotocol/servers\u001b[39m\u001b[38;5;124m'\u001b[39m)\n\u001b[1;32m      7\u001b[0m \u001b[38;5;28mprint\u001b[39m(map_result)\n",
      "\u001b[0;31mAttributeError\u001b[0m: 'FirecrawlApp' object has no attribute 'map_url'"
     ]
    }
   ],
   "source": [
    "from firecrawl import FirecrawlApp\n",
    "\n",
    "app = FirecrawlApp(api_key=\"fc-970a8239bdf54a36a23f62bbaa447313\")\n",
    "\n",
    "# Map a website:\n",
    "map_result = app.map_url('https://github.com/modelcontextprotocol/servers')\n",
    "print(map_result)"
   ]
  }
 ],
 "metadata": {
  "kernelspec": {
   "display_name": "smartfunnel_env",
   "language": "python",
   "name": "smartfunnel_env"
  },
  "language_info": {
   "codemirror_mode": {
    "name": "ipython",
    "version": 3
   },
   "file_extension": ".py",
   "mimetype": "text/x-python",
   "name": "python",
   "nbconvert_exporter": "python",
   "pygments_lexer": "ipython3",
   "version": "3.11.8"
  }
 },
 "nbformat": 4,
 "nbformat_minor": 2
}
